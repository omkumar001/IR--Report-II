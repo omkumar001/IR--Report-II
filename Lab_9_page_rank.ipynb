{
  "nbformat": 4,
  "nbformat_minor": 0,
  "metadata": {
    "colab": {
      "name": " Lab 9 page-rank.ipynb",
      "provenance": [],
      "collapsed_sections": []
    },
    "kernelspec": {
      "name": "python3",
      "display_name": "Python 3"
    },
    "language_info": {
      "name": "python"
    }
  },
  "cells": [
    {
      "cell_type": "code",
      "metadata": {
        "id": "AtKFLtV-RMyG"
      },
      "source": [
        "from google.colab import drive\n",
        "import numpy as np\n",
        "from scipy.sparse import dok_matrix\n",
        "import networkx as nx"
      ],
      "execution_count": null,
      "outputs": []
    },
    {
      "cell_type": "code",
      "metadata": {
        "colab": {
          "base_uri": "https://localhost:8080/"
        },
        "id": "0-k53lVFRi66",
        "outputId": "62eb61d3-0ddb-4058-c1e6-79b7269d8714"
      },
      "source": [
        "drive.mount('/content/drive')"
      ],
      "execution_count": null,
      "outputs": [
        {
          "output_type": "stream",
          "name": "stdout",
          "text": [
            "Drive already mounted at /content/drive; to attempt to forcibly remount, call drive.mount(\"/content/drive\", force_remount=True).\n"
          ]
        }
      ]
    },
    {
      "cell_type": "code",
      "metadata": {
        "colab": {
          "base_uri": "https://localhost:8080/"
        },
        "id": "RDKjKfGQRjD7",
        "outputId": "56727a78-a074-400f-e748-d0101c16912a"
      },
      "source": [
        "% cd /content/drive/MyDrive/Colab Notebooks/Page Rank/\n",
        "% ls"
      ],
      "execution_count": null,
      "outputs": [
        {
          "output_type": "stream",
          "name": "stdout",
          "text": [
            "/content/drive/MyDrive/Colab Notebooks/Page Rank\n",
            "web-Stanford.txt\n"
          ]
        }
      ]
    },
    {
      "cell_type": "code",
      "metadata": {
        "colab": {
          "base_uri": "https://localhost:8080/"
        },
        "id": "fV-kP9Dcrfic",
        "outputId": "a1eb6fcc-87d9-4767-f223-5803e026710c"
      },
      "source": [
        "# Now , here I will try to show the sparse matrix looks like and also showing the small prototype of the graph made out of the nodes and the edges ...\n",
        "# Since , drawing the graph for the original dataset won't be possible as the collab session times out after 1 hr. in my PC , ad also it shows the estimated time to be around 5 hr .\n",
        "\n",
        "A = np.array([\n",
        "  [0, 0, 1, 1],\n",
        "  [1, 0, 1, 0],\n",
        "  [1, 1, 0, 1],\n",
        "  [1, 1, 1, 0],\n",
        "])\n",
        "A = A/np.sum(A, axis=0)\n",
        "v = np.array([1, 1, 1, 1])\n",
        "v = v/np.sum(v)\n",
        "v = v.reshape((4, 1))\n",
        "A\n"
      ],
      "execution_count": null,
      "outputs": [
        {
          "output_type": "execute_result",
          "data": {
            "text/plain": [
              "array([[0.        , 0.        , 0.33333333, 0.5       ],\n",
              "       [0.33333333, 0.        , 0.33333333, 0.        ],\n",
              "       [0.33333333, 0.5       , 0.        , 0.5       ],\n",
              "       [0.33333333, 0.5       , 0.33333333, 0.        ]])"
            ]
          },
          "metadata": {},
          "execution_count": 38
        }
      ]
    },
    {
      "cell_type": "code",
      "metadata": {
        "colab": {
          "base_uri": "https://localhost:8080/",
          "height": 319
        },
        "id": "02YXCk7rfb3w",
        "outputId": "8404214b-fd57-41fe-9c61-b3499ec30eab"
      },
      "source": [
        "G = nx.DiGraph()\n",
        "for ii, i in enumerate(A):\n",
        "  for jj, j in enumerate(i):\n",
        "    if j>0:\n",
        "      G.add_edge(ii, jj, weight=j)\n",
        "nx.draw(G, with_labels=True)   \n"
      ],
      "execution_count": null,
      "outputs": [
        {
          "output_type": "display_data",
          "data": {
            "image/png": "[encoded data removed]",
            "text/plain": [
              "<Figure size 432x288 with 1 Axes>"
            ]
          },
          "metadata": {}
        }
      ]
    },
    {
      "cell_type": "code",
      "metadata": {
        "colab": {
          "base_uri": "https://localhost:8080/"
        },
        "id": "guhpUqTCiQv7",
        "outputId": "58b15cbe-a478-4b71-807f-e7e7f0e5729c"
      },
      "source": [
        "print(\"Nodes are : \" ,list(G.nodes))\n",
        "print(\"Edges are : \" ,list(G.edges))"
      ],
      "execution_count": null,
      "outputs": [
        {
          "output_type": "stream",
          "name": "stdout",
          "text": [
            "Nodes are :  [0, 2, 3, 1]\n",
            "Edges are :  [(0, 2), (0, 3), (2, 0), (2, 1), (2, 3), (3, 0), (3, 1), (3, 2), (1, 0), (1, 2)]\n"
          ]
        }
      ]
    },
    {
      "cell_type": "code",
      "metadata": {
        "id": "BYiLE429vwhf"
      },
      "source": [
        "# Now the actual code for the page rank starts ...... "
      ],
      "execution_count": null,
      "outputs": []
    },
    {
      "cell_type": "code",
      "metadata": {
        "id": "-6fb5SU_Q8ZH",
        "colab": {
          "base_uri": "https://localhost:8080/"
        },
        "outputId": "27af90a6-2f7d-4bbd-a21f-ed908e2cabff"
      },
      "source": [
        "# So , now from the web Standford.txt file , we perform the page ranking \n",
        "G = nx.DiGraph()\n",
        "dims = 281903 # because these are these many of the nodes which hase been printed below..\n",
        "sparse_matrix = dok_matrix((dims, dims), dtype=np.float32)\n",
        "D = np.zeros(dims)\n",
        "\n",
        "with open('web-Stanford.txt', 'r') as f:\n",
        "  # skipping first 4 comments, as these details are not required for the page rank algorithm ..\n",
        "  for i in range(4):\n",
        "    next(f)\n",
        "  for i in f:\n",
        "    start_node, end_node = list(map(int, i.split()))\n",
        "    G.add_edge(start_node, end_node)\n",
        "    D[start_node-1] = D[start_node-1] + 1\n",
        "\n",
        "with open('web-Stanford.txt', 'r') as f:\n",
        "  # skipping first 4 comments, can be done by putting condition of '#'and also as these details are not required for the page rank algorithm\n",
        "  for i in range(4):\n",
        "    next(f)\n",
        "  for i in f:\n",
        "    start_node, end_node = list(map(int, i.split()))\n",
        "    sparse_matrix[start_node-1, end_node-1] = 1/D[start_node-1]\n",
        "sparse_matrix = sparse_matrix.tocsr()\n",
        "\n",
        "print(sparse_matrix)"
      ],
      "execution_count": null,
      "outputs": [
        {
          "output_type": "stream",
          "name": "stdout",
          "text": [
            "  (0, 6547)\t0.5\n",
            "  (0, 15408)\t0.5\n",
            "  (1, 17793)\t0.032258064\n",
            "  (1, 25201)\t0.032258064\n",
            "  (1, 53624)\t0.032258064\n",
            "  (1, 54581)\t0.032258064\n",
            "  (1, 64929)\t0.032258064\n",
            "  (1, 73763)\t0.032258064\n",
            "  (1, 84476)\t0.032258064\n",
            "  (1, 98627)\t0.032258064\n",
            "  (1, 100192)\t0.032258064\n",
            "  (1, 102354)\t0.032258064\n",
            "  (1, 105317)\t0.032258064\n",
            "  (1, 105729)\t0.032258064\n",
            "  (1, 115925)\t0.032258064\n",
            "  (1, 140863)\t0.032258064\n",
            "  (1, 163549)\t0.032258064\n",
            "  (1, 164598)\t0.032258064\n",
            "  (1, 175798)\t0.032258064\n",
            "  (1, 178641)\t0.032258064\n",
            "  (1, 181713)\t0.032258064\n",
            "  (1, 190452)\t0.032258064\n",
            "  (1, 204188)\t0.032258064\n",
            "  (1, 204603)\t0.032258064\n",
            "  (1, 210869)\t0.032258064\n",
            "  :\t:\n",
            "  (281897, 166892)\t0.14285715\n",
            "  (281897, 191218)\t0.14285715\n",
            "  (281897, 231578)\t0.14285715\n",
            "  (281897, 266495)\t0.14285715\n",
            "  (281897, 275194)\t0.14285715\n",
            "  (281898, 30563)\t0.33333334\n",
            "  (281898, 266497)\t0.33333334\n",
            "  (281898, 275193)\t0.33333334\n",
            "  (281899, 186749)\t0.5\n",
            "  (281899, 225871)\t0.5\n",
            "  (281900, 203841)\t1.0\n",
            "  (281901, 68136)\t0.14285715\n",
            "  (281901, 119657)\t0.14285715\n",
            "  (281901, 166892)\t0.14285715\n",
            "  (281901, 168702)\t0.14285715\n",
            "  (281901, 180770)\t0.14285715\n",
            "  (281901, 266503)\t0.14285715\n",
            "  (281901, 275188)\t0.14285715\n",
            "  (281902, 44102)\t0.14285715\n",
            "  (281902, 56087)\t0.14285715\n",
            "  (281902, 90590)\t0.14285715\n",
            "  (281902, 94439)\t0.14285715\n",
            "  (281902, 216687)\t0.14285715\n",
            "  (281902, 256538)\t0.14285715\n",
            "  (281902, 260898)\t0.14285715\n"
          ]
        }
      ]
    },
    {
      "cell_type": "code",
      "metadata": {
        "id": "uS8izrfJg_jQ",
        "colab": {
          "base_uri": "https://localhost:8080/"
        },
        "outputId": "0500f6bb-ce74-4197-89b9-de84f297b9db"
      },
      "source": [
        "print(\"Total Nodes : \" ,len(list(G.nodes)))\n",
        "print(\"Total Edges : \" ,len(list(G.edges)))\n",
        "# nx.draw(G, with_labels=True)   "
      ],
      "execution_count": null,
      "outputs": [
        {
          "output_type": "stream",
          "name": "stdout",
          "text": [
            "Total Nodes :  281903\n",
            "Total Edges :  2312497\n"
          ]
        }
      ]
    },
    {
      "cell_type": "code",
      "metadata": {
        "colab": {
          "base_uri": "https://localhost:8080/"
        },
        "id": "uET0F4o-WLib",
        "outputId": "4fddffdd-918e-405b-823f-226562d1cd72"
      },
      "source": [
        "def get_ranks(H, v, N, dangling_factor=0.85):\n",
        "  iters = 0\n",
        "  while True:\n",
        "    new_v = dangling_factor * (H @ v) + (1-dangling_factor)/N\n",
        "    \n",
        "    iters+=1\n",
        "    if np.allclose(new_v, v):\n",
        "      break\n",
        "    v = new_v\n",
        "  print(iters)\n",
        "  print(v)\n",
        "  return v\n",
        "v = np.ones(dims)/dims\n",
        "z = get_ranks(sparce_matrix, v, dims)\n",
        "\n",
        "# Over here we have taken the default value of the Damping factor to be 0.85 and then this function is going to return the rank of the pages or documents.\n",
        "# We are returning the the iteration taken and also the the vector V finally ."
      ],
      "execution_count": null,
      "outputs": [
        {
          "output_type": "stream",
          "name": "stdout",
          "text": [
            "37\n",
            "[3.54731947e-06 3.54715507e-06 3.48797011e-06 ... 3.54665501e-06\n",
            " 3.54682833e-06 3.53805941e-06]\n"
          ]
        }
      ]
    },
    {
      "cell_type": "code",
      "metadata": {
        "colab": {
          "base_uri": "https://localhost:8080/"
        },
        "id": "DBq6-6i2wjST",
        "outputId": "f78873df-674a-4f00-9fc5-bab00bcbb4a3"
      },
      "source": [
        "# checking if the sum of the probabilities is close to 1 or not ..\n",
        "np.sum(z) "
      ],
      "execution_count": null,
      "outputs": [
        {
          "output_type": "execute_result",
          "data": {
            "text/plain": [
              "0.997621010253663"
            ]
          },
          "metadata": {},
          "execution_count": 46
        }
      ]
    }
  ]
}